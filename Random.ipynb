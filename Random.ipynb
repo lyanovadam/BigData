{
 "cells": [
  {
   "cell_type": "code",
   "execution_count": 3,
   "id": "f7d1b110",
   "metadata": {},
   "outputs": [
    {
     "name": "stdout",
     "output_type": "stream",
     "text": [
      "Введите целое число от 1 до 10: 7\n",
      "Вы ввели большее число!\n",
      "Введите целое число от 1 до 10: 6\n",
      "Вы ввели большее число!\n",
      "Введите целое число от 1 до 10: 5\n",
      "Поздравляю! Вы угадали загаданное целое число.\n"
     ]
    }
   ],
   "source": [
    "from random import randint\n",
    "r = randint(1,10)\n",
    "while True:\n",
    "    try: \n",
    "        a = int(input('Введите целое число от 1 до 10: '))\n",
    "    except:\n",
    "        print('Ошибка ввода! Повторите пожалуйста ввод целого числа.')\n",
    "        continue\n",
    "    if a==r:\n",
    "        print('Поздравляю! Вы угадали загаданное целое число.')\n",
    "        break\n",
    "    elif a > r:\n",
    "        print('Вы ввели большее число!')\n",
    "    else:\n",
    "        print('Вы ввели меньшее число!')\n",
    "\n"
   ]
  },
  {
   "cell_type": "code",
   "execution_count": 4,
   "id": "5872a550",
   "metadata": {},
   "outputs": [],
   "source": [
    "import gc"
   ]
  },
  {
   "cell_type": "code",
   "execution_count": 5,
   "id": "dbee7b80",
   "metadata": {
    "scrolled": false
   },
   "outputs": [
    {
     "data": {
      "text/plain": [
       "[]"
      ]
     },
     "execution_count": 5,
     "metadata": {},
     "output_type": "execute_result"
    }
   ],
   "source": [
    "gc.garbage"
   ]
  },
  {
   "cell_type": "code",
   "execution_count": 7,
   "id": "257bd23e",
   "metadata": {},
   "outputs": [
    {
     "data": {
      "text/plain": [
       "231"
      ]
     },
     "execution_count": 7,
     "metadata": {},
     "output_type": "execute_result"
    }
   ],
   "source": [
    "gc.collect()"
   ]
  },
  {
   "cell_type": "code",
   "execution_count": 8,
   "id": "7388f6d0",
   "metadata": {},
   "outputs": [
    {
     "name": "stdout",
     "output_type": "stream",
     "text": [
      "  4           0 LOAD_GLOBAL              0 (print)\n",
      "              2 LOAD_CONST               1 ('Hello world')\n",
      "              4 CALL_FUNCTION            1\n",
      "              6 POP_TOP\n",
      "              8 LOAD_CONST               0 (None)\n",
      "             10 RETURN_VALUE\n"
     ]
    }
   ],
   "source": [
    "import dis\n",
    "\n",
    "def hello_world():\n",
    "    print('Hello world')\n",
    "\n",
    "dis.dis(hello_world)"
   ]
  },
  {
   "cell_type": "code",
   "execution_count": null,
   "id": "e09feff1",
   "metadata": {},
   "outputs": [],
   "source": []
  },
  {
   "cell_type": "code",
   "execution_count": 10,
   "id": "18bb0040",
   "metadata": {},
   "outputs": [
    {
     "name": "stdout",
     "output_type": "stream",
     "text": [
      " ’®¬ ў гбва®©бвўҐ C Ё¬ҐҐв ¬ҐвЄг Windows\n",
      " ‘ҐаЁ©­л© ­®¬Ґа в®¬ : 7AE3-1C09\n",
      "\n",
      " ‘®¤Ґа¦Ё¬®Ґ Ї ЇЄЁ C:\\Users\\user\n",
      "\n",
      "22.01.2024  11:50    <DIR>          .\n",
      "10.05.2023  11:06    <DIR>          ..\n",
      "07.06.2023  22:21    <DIR>          .android\n",
      "05.11.2023  17:11    <DIR>          .arduinoIDE\n",
      "06.06.2023  16:00    <DIR>          .conda\n",
      "01.06.2023  11:08                25 .condarc\n",
      "01.06.2023  11:05    <DIR>          .continuum\n",
      "07.06.2023  10:16    <DIR>          .cufflinks\n",
      "12.07.2023  15:55    <DIR>          .eclipse\n",
      "07.06.2023  22:22    <DIR>          .fastboot\n",
      "28.06.2023  14:56    <DIR>          .idlerc\n",
      "22.01.2024  11:39    <DIR>          .ipynb_checkpoints\n",
      "31.05.2023  10:27    <DIR>          .ipython\n",
      "31.05.2023  13:09    <DIR>          .jupyter\n",
      "31.05.2023  12:27    <DIR>          .matplotlib\n",
      "09.01.2024  12:49               510 .packettracer\n",
      "21.06.2023  17:14    <DIR>          .swt\n",
      "13.09.2023  12:17    <DIR>          .vscode\n",
      "16.06.2023  23:37    <DIR>          Cisco Packet Tracer 7.0\n",
      "16.06.2023  23:04    <DIR>          Cisco Packet Tracer 7.1\n",
      "16.06.2023  23:18    <DIR>          Cisco Packet Tracer 8.2.1\n",
      "10.05.2023  11:07    <DIR>          Contacts\n",
      "22.01.2024  09:40    <DIR>          Desktop\n",
      "30.12.2023  02:11    <DIR>          Documents\n",
      "22.01.2024  11:40    <DIR>          Downloads\n",
      "16.10.2023  12:15    <DIR>          dwhelper\n",
      "10.05.2023  11:07    <DIR>          Favorites\n",
      "10.05.2023  11:07    <DIR>          Links\n",
      "10.05.2023  11:07    <DIR>          Music\n",
      "22.01.2024  09:20    <DIR>          OneDrive\n",
      "17.09.2023  09:09    <DIR>          Pictures\n",
      "30.05.2023  12:23    <DIR>          PycharmProjects\n",
      "22.01.2024  11:50             3я988 Random.ipynb\n",
      "11.07.2023  14:36               758 runpsql.bat\n",
      "10.05.2023  11:07    <DIR>          Saved Games\n",
      "08.06.2023  10:20    <DIR>          seaborn-data\n",
      "11.05.2023  15:47    <DIR>          Searches\n",
      "25.06.2023  19:40                 0 Sti_Trace.log\n",
      "10.06.2023  12:48    <DIR>          Untitled Folder\n",
      "10.06.2023  12:48    <DIR>          Untitled Folder 1\n",
      "24.12.2023  19:33             1я551 Untitled.ipynb\n",
      "31.05.2023  10:37               589 Untitled1.ipynb\n",
      "22.01.2024  11:25             3я441 Untitled2.ipynb\n",
      "02.12.2023  18:14                15 version.txt\n",
      "23.10.2023  08:47    <DIR>          Videos\n",
      "10.06.2023  13:46    <DIR>          …ѓќ\n",
      "               9 д ©«®ў         10я877 Ў ©в\n",
      "              37 Ї Ї®Є  97я638я514я688 Ў ©в бў®Ў®¤­®\n"
     ]
    }
   ],
   "source": [
    "!dir"
   ]
  },
  {
   "cell_type": "code",
   "execution_count": 2,
   "id": "114673ce",
   "metadata": {},
   "outputs": [
    {
     "data": {
      "text/plain": [
       "dict_keys(['key', 'key2'])"
      ]
     },
     "execution_count": 2,
     "metadata": {},
     "output_type": "execute_result"
    }
   ],
   "source": []
  },
  {
   "cell_type": "code",
   "execution_count": 20,
   "id": "cd733947",
   "metadata": {},
   "outputs": [
    {
     "name": "stdout",
     "output_type": "stream",
     "text": [
      "False\n"
     ]
    }
   ],
   "source": []
  }
 ],
 "metadata": {
  "kernelspec": {
   "display_name": "Python 3 (ipykernel)",
   "language": "python",
   "name": "python3"
  },
  "language_info": {
   "codemirror_mode": {
    "name": "ipython",
    "version": 3
   },
   "file_extension": ".py",
   "mimetype": "text/x-python",
   "name": "python",
   "nbconvert_exporter": "python",
   "pygments_lexer": "ipython3",
   "version": "3.9.12"
  }
 },
 "nbformat": 4,
 "nbformat_minor": 5
}
